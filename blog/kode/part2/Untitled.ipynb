{
 "cells": [
  {
   "cell_type": "code",
   "execution_count": 7,
   "metadata": {},
   "outputs": [
    {
     "name": "stdout",
     "output_type": "stream",
     "text": [
      "std 2.87210129164472\n"
     ]
    }
   ],
   "source": [
    "import math\n",
    "from ast2000tools import constants\n",
    "T=2000\n",
    "print(f'std {math.sqrt((constants.k_B*T)/constants.m_H2) /1000}')"
   ]
  },
  {
   "cell_type": "code",
   "execution_count": 16,
   "metadata": {},
   "outputs": [
    {
     "name": "stdout",
     "output_type": "stream",
     "text": [
      "Sirius avstand i AU 543862\n",
      "Vinkel i radianer 0.000111111\n",
      "En planets minste avstand fra Sirius for å kunne sees fra et teleskop fra jorden 60.4291 AU\n",
      "Eller 9.04007e+09 km\n"
     ]
    }
   ],
   "source": [
    "avstand_ly=8.6\n",
    "avstand_au = constants.yr*constants.c*avstand_ly/constants.AU\n",
    "print(f'Sirius avstand i AU {avstand_au:g}')\n",
    "vinkel_radianer=0.4/3600\n",
    "print(f'Vinkel i radianer {vinkel_radianer:g}')\n",
    "print(f'En planets minste avstand fra Sirius for å kunne sees fra et teleskop fra jorden {avstand_au*vinkel_radianer:g} AU')\n",
    "print(f'Eller {avstand_au*vinkel_radianer*constants.AU/1000:g} km')"
   ]
  },
  {
   "cell_type": "code",
   "execution_count": 26,
   "metadata": {},
   "outputs": [
    {
     "name": "stdout",
     "output_type": "stream",
     "text": [
      "Stjerna har 0.895542 ganger massen til jupiter\n",
      "Som er 1.69985e+27kg\n"
     ]
    }
   ],
   "source": [
    "# Jupiter masse i kg\n",
    "mj=1.89813e+27\n",
    "# Fra dager til sekunder\n",
    "P=300*60*60\n",
    "vr=175 # m/s\n",
    "# Fra solmasse til kg\n",
    "ms=0.3*constants.m_sun\n",
    "\n",
    "mp=((P/(2*math.pi*constants.G))**(1.0/3))*ms**(2.0/3)*vr\n",
    "print(f'Stjerna har {mp/mj:g} ganger massen til jupiter')\n",
    "print(f'Som er {mp:g}kg')"
   ]
  },
  {
   "cell_type": "code",
   "execution_count": 44,
   "metadata": {},
   "outputs": [
    {
     "name": "stdout",
     "output_type": "stream",
     "text": [
      "Planetens radielle hastighet er 61414.1 m/s\n"
     ]
    }
   ],
   "source": [
    "vp=vr*ms/mp\n",
    "print(f'Planetens radielle hastighet er {vp:g} m/s')"
   ]
  },
  {
   "cell_type": "code",
   "execution_count": 45,
   "metadata": {},
   "outputs": [
    {
     "name": "stdout",
     "output_type": "stream",
     "text": [
      "Radien til planeten er 0.351384 ganger Jupiters radius\n",
      "Som er 24565.62193210548km\n"
     ]
    }
   ],
   "source": [
    "t0=10\n",
    "t1=10.8\n",
    "vp=vp\n",
    "R=(vp*(t1-t0))/2\n",
    "jr=69911\n",
    "print(f'Radien til planeten er {R/jr:g} ganger Jupiters radius')\n",
    "print(f'Som er {R}km')"
   ]
  },
  {
   "cell_type": "code",
   "execution_count": 47,
   "metadata": {},
   "outputs": [
    {
     "name": "stdout",
     "output_type": "stream",
     "text": [
      "Solens radielle hastighet i bane med jupiter 12.4668 m/s\n"
     ]
    }
   ],
   "source": [
    "P=11.862*constants.yr\n",
    "vs=mj/((constants.m_sun**(2/3))*(P/(2*math.pi*constants.G))**(1/3))\n",
    "print(f'Solens radielle hastighet i bane med jupiter {vs:g} m/s')"
   ]
  },
  {
   "cell_type": "code",
   "execution_count": 56,
   "metadata": {},
   "outputs": [
    {
     "name": "stdout",
     "output_type": "stream",
     "text": [
      "Solens radielle hastighet i bane med jorden 0.0894602 m/s\n"
     ]
    }
   ],
   "source": [
    "# Earth mass kg\n",
    "me=5.97237e+24\n",
    "P=constants.yr\n",
    "vs2=me/((constants.m_sun**(2/3))*(P/(2*math.pi*constants.G))**(1/3))\n",
    "print(f'Solens radielle hastighet i bane med jorden {vs2:g} m/s')"
   ]
  },
  {
   "cell_type": "code",
   "execution_count": 62,
   "metadata": {},
   "outputs": [
    {
     "name": "stdout",
     "output_type": "stream",
     "text": [
      "Hubbel oppløsning i radianer 2.777777777777778e-05\n",
      "Avstand til stjerne for å kunne observere vobbling pga planet på størrelse med Jupiter fra Hubble er 3.10749 lysår\n"
     ]
    }
   ],
   "source": [
    "# Oppløsning til Hubbel i radianer\n",
    "dTheta=0.1/3600\n",
    "print(f'Hubbel oppløsning i radianer {dTheta}')\n",
    "# Delta r avstand mellom solen og jupiter\n",
    "d_r=5.4588*constants.AU\n",
    "r=d_r/dTheta\n",
    "print(f'Avstand til stjerne for å kunne observere vobbling pga planet på størrelse med Jupiter fra Hubble er {r/constants.AU/constants.c_AU_pr_yr:g} lysår')"
   ]
  },
  {
   "cell_type": "code",
   "execution_count": null,
   "metadata": {},
   "outputs": [],
   "source": []
  }
 ],
 "metadata": {
  "kernelspec": {
   "display_name": "Python 3",
   "language": "python",
   "name": "python3"
  },
  "language_info": {
   "codemirror_mode": {
    "name": "ipython",
    "version": 3
   },
   "file_extension": ".py",
   "mimetype": "text/x-python",
   "name": "python",
   "nbconvert_exporter": "python",
   "pygments_lexer": "ipython3",
   "version": "3.8.5"
  }
 },
 "nbformat": 4,
 "nbformat_minor": 4
}
